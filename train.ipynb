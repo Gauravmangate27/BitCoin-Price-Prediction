{
 "cells": [
  {
   "cell_type": "code",
   "execution_count": 1,
   "id": "9e0313e0-f6e0-4549-a8f6-70bec4bffe32",
   "metadata": {},
   "outputs": [
    {
     "name": "stdout",
     "output_type": "stream",
     "text": [
      "Linear Regression - Mean Squared Error: 210856.2017078333\n",
      "Decision Tree - Mean Squared Error: 806283.2229924547\n",
      "Random Forest - Mean Squared Error: 452794.53836404503\n",
      "Gradient Boosting - Mean Squared Error: 546029.9077959994\n",
      "Best model: Linear Regression\n"
     ]
    },
    {
     "data": {
      "text/plain": [
       "['bitcoin_price_model.pkl']"
      ]
     },
     "execution_count": 1,
     "metadata": {},
     "output_type": "execute_result"
    }
   ],
   "source": [
    "import pandas as pd\n",
    "from sklearn.model_selection import train_test_split\n",
    "from sklearn.linear_model import LinearRegression\n",
    "from sklearn.tree import DecisionTreeRegressor\n",
    "from sklearn.ensemble import RandomForestRegressor, GradientBoostingRegressor\n",
    "from sklearn.metrics import mean_squared_error\n",
    "import joblib\n",
    "\n",
    "# Load dataset\n",
    "data = pd.read_csv('bitcoin_2020-01-13_2024-11-12.csv')  # Update this path\n",
    "\n",
    "# Features and target\n",
    "X = data[['Open', 'High', 'Low', 'Volume', 'Market Cap']]\n",
    "y = data['Close']\n",
    "\n",
    "# Split the dataset\n",
    "X_train, X_test, y_train, y_test = train_test_split(X, y, test_size=0.2, random_state=42)\n",
    "\n",
    "# Initialize models\n",
    "models = {\n",
    "    \"Linear Regression\": LinearRegression(),\n",
    "    \"Decision Tree\": DecisionTreeRegressor(random_state=42),\n",
    "    \"Random Forest\": RandomForestRegressor(n_estimators=100, random_state=42),\n",
    "    \"Gradient Boosting\": GradientBoostingRegressor(n_estimators=100, random_state=42)\n",
    "}\n",
    "\n",
    "# Train and evaluate each model\n",
    "for name, model in models.items():\n",
    "    model.fit(X_train, y_train)\n",
    "    y_pred = model.predict(X_test)\n",
    "    mse = mean_squared_error(y_test, y_pred)\n",
    "    print(f\"{name} - Mean Squared Error: {mse}\")\n",
    "\n",
    "# Choose the best model (with the lowest MSE)\n",
    "best_model_name = min(models, key=lambda name: mean_squared_error(y_test, models[name].predict(X_test)))\n",
    "best_model = models[best_model_name]\n",
    "\n",
    "# Save the best model\n",
    "print(f\"Best model: {best_model_name}\")\n",
    "joblib.dump(best_model, 'bitcoin_price_model.pkl')\n"
   ]
  },
  {
   "cell_type": "code",
   "execution_count": 2,
   "id": "9419a5ca-9f34-4092-99a9-9c3f5b5e2a98",
   "metadata": {},
   "outputs": [
    {
     "data": {
      "text/plain": [
       "{'Linear Regression': LinearRegression(),\n",
       " 'Decision Tree': DecisionTreeRegressor(random_state=42),\n",
       " 'Random Forest': RandomForestRegressor(random_state=42),\n",
       " 'Gradient Boosting': GradientBoostingRegressor(random_state=42)}"
      ]
     },
     "execution_count": 2,
     "metadata": {},
     "output_type": "execute_result"
    }
   ],
   "source": [
    "models"
   ]
  }
 ],
 "metadata": {
  "kernelspec": {
   "display_name": "Python 3 (ipykernel)",
   "language": "python",
   "name": "python3"
  },
  "language_info": {
   "codemirror_mode": {
    "name": "ipython",
    "version": 3
   },
   "file_extension": ".py",
   "mimetype": "text/x-python",
   "name": "python",
   "nbconvert_exporter": "python",
   "pygments_lexer": "ipython3",
   "version": "3.12.1"
  }
 },
 "nbformat": 4,
 "nbformat_minor": 5
}
